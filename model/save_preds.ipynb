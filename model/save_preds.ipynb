{
  "cells": [
    {
      "cell_type": "markdown",
      "source": [
        "## Saving Predictions"
      ],
      "metadata": {}
    },
    {
      "cell_type": "code",
      "source": [
        "from pathlib import Path\n",
        "\n",
        "#data_dir = Path(\"/home/jovyan/data\")\n",
        "#process_dir = data_dir / \"processed\"\n",
        "args = {\n",
        "    \"device\": \"cpu\", # set to \"cuda\" if gpu is available\n",
        "    \"out_dir\": \"predictions\"\n",
        "}"
      ],
      "outputs": [],
      "execution_count": null,
      "metadata": {}
    },
    {
      "cell_type": "code",
      "source": [
        "import torch\n",
        "from unet import Unet\n",
        "\n",
        "state = torch.load(\"model.pt\",map_location=args[\"device\"])\n",
        "model = Unet(10, 3, 4).to(args[\"device\"])\n",
        "model.load_state_dict(state)\n",
        "model = model.eval()"
      ],
      "outputs": [],
      "execution_count": null,
      "metadata": {}
    },
    {
      "cell_type": "code",
      "source": [
        "from data import GlacierDataset\n",
        "from torch.utils.data import DataLoader\n",
        "\n",
        "paths = {}\n",
        "for split in [\"train\", \"test\"]:\n",
        "    paths[split] = {}\n",
        "    for v in [\"x\", \"y\"]:\n",
        "        paths[split][v] = list(Path(split+\"_npy/test/processed\").glob(v + \"*\"))\n",
        "        paths[split][v].sort()\n",
        "\n",
        "ds = {\n",
        "    \"train\": GlacierDataset(paths[\"train\"][\"x\"], paths[\"train\"][\"y\"]),\n",
        "    \"test\": GlacierDataset(paths[\"test\"][\"x\"], paths[\"test\"][\"y\"])\n",
        "}"
      ],
      "outputs": [],
      "execution_count": null,
      "metadata": {}
    },
    {
      "cell_type": "code",
      "source": [
        "from train import predictions\n",
        "\n",
        "predictions(model, ds[\"train\"], args[\"out_dir\"] / \"train\", args[\"device\"])\n",
        "predictions(model, ds[\"test\"], args[\"out_dir\"] / \"test\", args[\"device\"])"
      ],
      "outputs": [],
      "execution_count": null,
      "metadata": {}
    }
  ],
  "metadata": {
    "kernelspec": {
      "display_name": "Python 3",
      "language": "python",
      "name": "python3"
    },
    "language_info": {
      "codemirror_mode": {
        "name": "ipython",
        "version": 3
      },
      "file_extension": ".py",
      "mimetype": "text/x-python",
      "name": "python",
      "nbconvert_exporter": "python",
      "pygments_lexer": "ipython3",
      "version": "3.8.3"
    },
    "nteract": {
      "version": "0.28.0"
    }
  },
  "nbformat": 4,
  "nbformat_minor": 4
}