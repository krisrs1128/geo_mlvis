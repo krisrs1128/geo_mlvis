{
  "cells": [
    {
      "cell_type": "code",
      "source": [
        "import urllib.request\n",
        "import tarfile\n",
        "from pathlib import Path\n",
        "from data import create_dir, download_data\n",
        "import os\n",
        "\n",
        "# setup directory structure for download\n",
        "\n",
        "#process_dir = Path(\"./Processed\")"
      ],
      "outputs": [],
      "execution_count": null,
      "metadata": {}
    },
    {
      "cell_type": "code",
      "source": [
        "args = {\n",
        "    \"batch_size\": 10, # make this bigger if you are not running on binder\n",
        "    \"epochs\": 1,\n",
        "    \"lr\": 0.0001,\n",
        "    \"device\": \"cpu\" # set to \"cuda\" if GPU is available\n",
        "}"
      ],
      "outputs": [],
      "execution_count": null,
      "metadata": {}
    },
    {
      "cell_type": "code",
      "source": [
        "from data import GlacierDataset\n",
        "from torch.utils.data import DataLoader\n",
        "\n",
        "paths = {\n",
        "    \"x\": list(Path(\"npy/test/processed\").glob(\"x*\")),\n",
        "    \"y\": list(Path(\"npy/test/processed\").glob(\"y*\"))\n",
        "}\n",
        "\n",
        "print(paths[\"x\"][0:3])\n",
        "\n",
        "ds = GlacierDataset(paths[\"x\"], paths[\"y\"])\n",
        "loader = DataLoader(ds, batch_size=args[\"batch_size\"], shuffle=True)"
      ],
      "outputs": [],
      "execution_count": null,
      "metadata": {}
    },
    {
      "cell_type": "code",
      "source": [
        "import torch.optim\n",
        "from unet import Unet\n",
        "from train import train_epoch\n",
        "\n",
        "model = Unet(10, 3, 4, dropout=0.2).to(args[\"device\"])\n",
        "optimizer = torch.optim.Adam(model.parameters(), lr=args[\"lr\"])\n",
        "\n",
        "for epoch in range(args[\"epochs\"]):\n",
        "    train_epoch(model, loader, optimizer, args[\"device\"], epoch)\n",
        "    \n",
        "torch.save(model.state_dict(), \"model.pt\")"
      ],
      "outputs": [],
      "execution_count": null,
      "metadata": {}
    },
    {
      "cell_type": "code",
      "source": [],
      "outputs": [],
      "execution_count": null,
      "metadata": {}
    }
  ],
  "metadata": {
    "kernelspec": {
      "display_name": "Python 3",
      "language": "python",
      "name": "python3"
    },
    "language_info": {
      "codemirror_mode": {
        "name": "ipython",
        "version": 3
      },
      "file_extension": ".py",
      "mimetype": "text/x-python",
      "name": "python",
      "nbconvert_exporter": "python",
      "pygments_lexer": "ipython3",
      "version": "3.8.3"
    },
    "nteract": {
      "version": "0.28.0"
    }
  },
  "nbformat": 4,
  "nbformat_minor": 4
}
