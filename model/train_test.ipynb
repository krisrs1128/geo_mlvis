{
 "cells": [
  {
   "cell_type": "code",
   "execution_count": null,
   "metadata": {},
   "outputs": [],
   "source": [
    "import urllib.request\n",
    "import tarfile\n",
    "from pathlib import Path\n",
    "from data import create_dir, download_data\n",
    "import os"
   ]
  },
  {
   "cell_type": "code",
   "execution_count": null,
   "metadata": {},
   "outputs": [],
   "source": [
    "args = {\n",
    "    \"batch_size\": 10, # make this bigger if you are not running on binder\n",
    "    \"epochs\": 5,\n",
    "    \"lr\": 0.0001,\n",
    "    \"device\": \"cpu\" # set to \"cuda\" if GPU is available\n",
    "}"
   ]
  },
  {
   "cell_type": "code",
   "execution_count": null,
   "metadata": {},
   "outputs": [],
   "source": [
    "from data import GlacierDataset\n",
    "from torch.utils.data import DataLoader\n",
    "\n",
    "paths = {\n",
    "    \"x\": list(Path(\"npy/test/processed\").glob(\"x*\")),\n",
    "    \"y\": list(Path(\"npy/test/processed\").glob(\"y*\"))\n",
    "}\n",
    "print(paths[\"x\"])\n",
    "ds = GlacierDataset(paths[\"x\"], paths[\"y\"])\n",
    "loader = DataLoader(ds, batch_size=args[\"batch_size\"], shuffle=True)"
   ]
  },
  {
   "cell_type": "code",
   "execution_count": null,
   "metadata": {},
   "outputs": [],
   "source": [
    "import torch.optim\n",
    "from unet import Unet\n",
    "from train import train_epoch\n",
    "\n",
    "model = Unet(10, 3, 4, dropout=0.2).to(args[\"device\"])\n",
    "optimizer = torch.optim.Adam(model.parameters(), lr=args[\"lr\"])\n",
    "Loss_Total=[];Loss_Batch=[]\n",
    "for epoch in range(args[\"epochs\"]):\n",
    "    l=train_epoch(model, loader, optimizer, args[\"device\"], epoch)\n",
    "    Loss_Total.append(l[0])\n",
    "    Loss_Batch.append(l[1])\n",
    "    \n",
    "torch.save(model.state_dict(), \"model.pt\")"
   ]
  },
  {
   "cell_type": "code",
   "execution_count": null,
   "metadata": {},
   "outputs": [],
   "source": [
    "import pickle \n",
    "filename='loss.pkl'\n",
    "with open(filename, 'wb') as f:  \n",
    "    pickle.dump([Loss_Toral,Loss_Batch], f)"
   ]
  }
 ],
 "metadata": {
  "kernelspec": {
   "display_name": "Python 3",
   "language": "python",
   "name": "python3"
  },
  "language_info": {
   "codemirror_mode": {
    "name": "ipython",
    "version": 3
   },
   "file_extension": ".py",
   "mimetype": "text/x-python",
   "name": "python",
   "nbconvert_exporter": "python",
   "pygments_lexer": "ipython3",
   "version": "3.8.3"
  }
 },
 "nbformat": 4,
 "nbformat_minor": 4
}
